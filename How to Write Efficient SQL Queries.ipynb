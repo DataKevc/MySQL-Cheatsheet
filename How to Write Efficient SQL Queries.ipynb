{
 "cells": [
  {
   "cell_type": "code",
   "execution_count": null,
   "id": "495158c3",
   "metadata": {},
   "outputs": [],
   "source": [
    "1. Only select the columns you want\n",
    "\n",
    "# Please don't get tempted to use SELECT * FROM ..., this can be highly ineficient and expensive if you are not careful\n",
    "\n",
    "# One of the worst-practice that can be avoided easily, you will save lots of time and resources by only select what you need\n",
    "\n"
   ]
  },
  {
   "cell_type": "code",
   "execution_count": null,
   "id": "1a6f80f1",
   "metadata": {},
   "outputs": [],
   "source": [
    "2. Read less data and don't repeat yourself\n",
    "\n",
    "# Get familiar with your dataset. It's surprising that almost each time you can find a more efficient way to write the query by using only the necessary columns and calculations.\n",
    "\n"
   ]
  },
  {
   "cell_type": "code",
   "execution_count": null,
   "id": "bdff2f23",
   "metadata": {},
   "outputs": [],
   "source": [
    "3. User Index to improve data retrieval speed"
   ]
  },
  {
   "cell_type": "code",
   "execution_count": null,
   "id": "91c0b6c7",
   "metadata": {},
   "outputs": [],
   "source": [
    "4. Try not to use wildcards in front of a value\n",
    "\n",
    "# Try to retain the wildcard % at the end of the value. When using wildcard at the beginning of a query, the query optimizer may not utilize the proper index\n",
    "\n"
   ]
  },
  {
   "cell_type": "code",
   "execution_count": null,
   "id": "593c1650",
   "metadata": {},
   "outputs": [],
   "source": [
    "5. Use WHERE instead of HAVING to set filters\n",
    "\n",
    "#  HAVING statements are calculated after WHERE statements. When tring to filter data with conditions, a WHERE statement is more efficient since it pulls only the needed records \n",
    "\n"
   ]
  },
  {
   "cell_type": "code",
   "execution_count": null,
   "id": "a1558e6a",
   "metadata": {},
   "outputs": [],
   "source": [
    "6. Limit output when exploring\n",
    "\n",
    "# When trying out different syntaxes or exploring the dataset, try using LIMIT to save time and resource\n",
    "\n"
   ]
  },
  {
   "cell_type": "code",
   "execution_count": null,
   "id": "ff2c17a2",
   "metadata": {},
   "outputs": [],
   "source": [
    "7. Don’t write complex queries\n",
    "\n",
    "# For example, when setting conditions using OR, instead of writing multiple value using OR one can use IN instead\n",
    "\n"
   ]
  },
  {
   "cell_type": "code",
   "execution_count": null,
   "id": "6bd746ba",
   "metadata": {},
   "outputs": [],
   "source": [
    "8. Run query during off-peak hours\n",
    "\n",
    "# This could potentially save lots of money especially when lots of the databases are rented from AWS or Google and billed according to usage. This can also prevent overload your machine. \n",
    "\n"
   ]
  }
 ],
 "metadata": {
  "kernelspec": {
   "display_name": "Python 3 (ipykernel)",
   "language": "python",
   "name": "python3"
  },
  "language_info": {
   "codemirror_mode": {
    "name": "ipython",
    "version": 3
   },
   "file_extension": ".py",
   "mimetype": "text/x-python",
   "name": "python",
   "nbconvert_exporter": "python",
   "pygments_lexer": "ipython3",
   "version": "3.9.12"
  }
 },
 "nbformat": 4,
 "nbformat_minor": 5
}
