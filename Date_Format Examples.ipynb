{
 "cells": [
  {
   "cell_type": "code",
   "execution_count": null,
   "id": "e7979595",
   "metadata": {},
   "outputs": [],
   "source": [
    "# Examples on how to use DATE_FORMAT to present your data with date/time as data type\n",
    "\n",
    "# DATE_FORMAT(date, format) \n",
    "\n",
    "ExampleA: SELECT DATE_FORMAT(\"2022-11-30\", \"%y-%m\")\n",
    "\n",
    "OutoutA = \"22-11\"\n",
    "\n",
    "\n",
    "ExampleB: SELECT DATE_FORMAT(\"2022-11-30\", \"%Y/%m/%D\")\n",
    "\n",
    "OutoutB = \"2022/11/30th\"\n"
   ]
  },
  {
   "cell_type": "markdown",
   "id": "372fe5fb",
   "metadata": {},
   "source": [
    "## format description\n",
    "\n",
    "| Format | Description |\n",
    "| :- | :- |\n",
    "| %a | Abbreviated weekday name (Sun to Sat) |\n",
    "| %b | Abbreviated month name (Jan to Dec) |\n",
    "| %c | Numeric month name (0 to 12) |\n",
    "| %D | Day of the month as a numeric value, followed by suffix (1st, 2nd,...) |\n",
    "| %d | Day of the month as a numeric value (01 to 31) |\n",
    "| %e | Day of the month as a numeric value (0 to 31) |\n",
    "| %f | Microseconds (000000 to 999999) |\n",
    "| %H | Hour (00 to 23) |\n",
    "| %h | Hour (00 to 12) |\n",
    "| %I | Hour (00 to 12) |\n",
    "| %i | Minutes (00 to 59) |\n",
    "| %j | Day of the year (001 to 366) |\n",
    "| %k | Hour (0 to 23) |\n",
    "| %l | Hour (1 to 12) |\n",
    "| %M | Month name in full (January to December) |\n",
    "| %m | Month name as a numeric value (00 to 12) |\n",
    "| %p | AM or PM |\n",
    "| %r | Time in 12 hour AM/PM format (hh:mm:ss AM/PM) |\n",
    "| %S | Seconds (00 to 59) |\n",
    "| %s | Seconds (00 to 59) |\n",
    "| %T | Time in 24 hour format (hh:mm:ss) |\n",
    "| %U | Week where Sunday is the first day of the week (00 to 53) |\n",
    "| %u | Week where Monday is the first day of the week (00 to 53) |\n",
    "| %V | Week where Sunday is the first day of the week (01 to 53). Used with %X |\n",
    "| %v | Week where Monday is the first day of the week (01 to 53). Used with %x |\n",
    "| %W | Weekday name in full (Sunday to Saturday) |\n",
    "| %w | Day of the week where Sunday=0 and Saturday=6 |\n",
    "| %X | Year for the week where Sunday is the first day of the week. Used with %V |\n",
    "| %x | Year for the week where Monday is the first day of the week. Used with %v |\n",
    "| %Y | Year as a numeric, 4-digit value |\n",
    "| %y | Year as a numeric, 2-digit value |"
   ]
  }
 ],
 "metadata": {
  "kernelspec": {
   "display_name": "Python 3 (ipykernel)",
   "language": "python",
   "name": "python3"
  },
  "language_info": {
   "codemirror_mode": {
    "name": "ipython",
    "version": 3
   },
   "file_extension": ".py",
   "mimetype": "text/x-python",
   "name": "python",
   "nbconvert_exporter": "python",
   "pygments_lexer": "ipython3",
   "version": "3.9.12"
  }
 },
 "nbformat": 4,
 "nbformat_minor": 5
}
